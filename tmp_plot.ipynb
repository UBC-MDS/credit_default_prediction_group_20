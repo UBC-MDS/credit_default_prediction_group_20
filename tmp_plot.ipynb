{
 "cells": [
  {
   "cell_type": "code",
   "execution_count": 2,
   "id": "e16a8198-182b-4f61-9218-74175067f983",
   "metadata": {},
   "outputs": [],
   "source": [
    "import os.path\n",
    "import pandas as pd\n",
    "import numpy as np\n",
    "import matplotlib.pyplot as plt\n",
    "from docopt import docopt\n",
    "from joblib import load as joblib_load\n",
    "\n",
    "from sklearn.metrics import confusion_matrix\n",
    "from sklearn.metrics import ConfusionMatrixDisplay\n",
    "from sklearn.metrics import precision_recall_curve, precision_score, recall_score\n",
    "from sklearn.metrics import roc_curve\n",
    "from sklearn.metrics import classification_report\n",
    "from sklearn.metrics import f1_score\n",
    "\n",
    "import altair as alt"
   ]
  },
  {
   "cell_type": "code",
   "execution_count": 11,
   "id": "9ef2a1d6-5837-45b9-8dfa-79b96c946256",
   "metadata": {},
   "outputs": [],
   "source": [
    "def plot_f1_scores_altair(train_test_scores_path, plot_path):\n",
    "    train_test_scores = pd.read_csv(train_test_scores_path, index_col=0)\n",
    "    train_test_scores.index.name = \"model\"\n",
    "    train_test_scores = train_test_scores.reset_index()\n",
    "    train_test_scores = train_test_scores.rename(\n",
    "        columns={\"train_f1_score\": \"train\", \"test_f1_score\": \"test\"}\n",
    "    )\n",
    "    train_test_scores = train_test_scores.sort_values(\"test\")\n",
    "    train_test_scores = pd.melt(\n",
    "        train_test_scores, id_vars=\"model\", var_name=\"score_type\", value_name=\"score\"\n",
    "    ).sort_values(\"model\")\n",
    "\n",
    "    my_chart = (\n",
    "        alt.Chart(train_test_scores, title=\"F-1 Scores for Different Models\")\n",
    "        .mark_bar()\n",
    "        .encode(\n",
    "            x=alt.X(\"score_type\", title=None),\n",
    "            y=\"score\",\n",
    "            color=alt.Color(\"score_type\", title=None),\n",
    "            column=alt.Column(\n",
    "                \"model:N\",\n",
    "                title=\"Model\",\n",
    "                spacing=40,\n",
    "                sort=[\n",
    "                    \"random_forest\",\n",
    "                    \"knn\",\n",
    "                    \"logistic_regression\",\n",
    "                    \"svc\",\n",
    "                    \"dummy_classifier\",\n",
    "                ],\n",
    "            ),\n",
    "        )\n",
    "        .configure_axis(\n",
    "            labelFontSize=15,\n",
    "            titleFontSize=15,\n",
    "        )\n",
    "        .configure_legend(\n",
    "            labelFontSize=15,\n",
    "        )\n",
    "        .configure_header(labelFontSize=13)\n",
    "        .configure_title(fontSize=20)\n",
    "    )\n",
    "    \n",
    "    my_chart.save(plot_path)"
   ]
  },
  {
   "cell_type": "code",
   "execution_count": 12,
   "id": "33f6ea63-372a-4dad-a1b3-2fd15d6f8d10",
   "metadata": {},
   "outputs": [],
   "source": [
    "def plot_f1_scores_matplotlib(train_test_scores_path, plot_path):\n",
    "    train_test_scores = pd.read_csv(train_test_scores_path, index_col=0)\n",
    "    train_test_scores.index.name = \"model\"\n",
    "    train_test_scores = train_test_scores.reset_index()\n",
    "    train_test_scores = train_test_scores.rename(\n",
    "        columns={\"train_f1_score\": \"train\", \"test_f1_score\": \"test\"}\n",
    "    )\n",
    "    train_test_scores = train_test_scores.sort_values(\"test\")\n",
    "    train_test_scores = pd.melt(\n",
    "        train_test_scores, id_vars=\"model\", var_name=\"score_type\", value_name=\"score\"\n",
    "    ).sort_values(\"model\")\n",
    "\n",
    "    my_chart = (\n",
    "        alt.Chart(train_test_scores, title=\"F-1 Scores for Different Models\")\n",
    "        .mark_bar()\n",
    "        .encode(\n",
    "            x=alt.X(\"score_type\", title=None),\n",
    "            y=\"score\",\n",
    "            color=alt.Color(\"score_type\", title=None),\n",
    "            column=alt.Column(\n",
    "                \"model:N\",\n",
    "                title=\"Model\",\n",
    "                spacing=40,\n",
    "                sort=[\n",
    "                    \"random_forest\",\n",
    "                    \"knn\",\n",
    "                    \"logistic_regression\",\n",
    "                    \"svc\",\n",
    "                    \"dummy_classifier\",\n",
    "                ],\n",
    "            ),\n",
    "        )\n",
    "        .configure_axis(\n",
    "            labelFontSize=15,\n",
    "            titleFontSize=15,\n",
    "        )\n",
    "        .configure_legend(\n",
    "            labelFontSize=15,\n",
    "        )\n",
    "        .configure_header(labelFontSize=13)\n",
    "        .configure_title(fontSize=20)\n",
    "    )\n",
    "    \n",
    "    my_chart.save(plot_path)"
   ]
  },
  {
   "cell_type": "code",
   "execution_count": 13,
   "id": "6b0bad91-ecb1-4083-adf1-f3ced3caa863",
   "metadata": {},
   "outputs": [],
   "source": [
    "output_dir_path = '/home/ken/Desktop/plot_data'\n",
    "train_test_scores_path = os.path.join(output_dir_path, 'train_test_f1_scores.csv')\n",
    "f1_score_plot_path = os.path.join(output_dir_path, 'train_test_f1_scores.png')"
   ]
  },
  {
   "cell_type": "code",
   "execution_count": 22,
   "id": "331fc7ac-b111-44c4-a408-c2c14090b2bd",
   "metadata": {},
   "outputs": [
    {
     "data": {
      "text/plain": [
       "['dummy_classifier', 'svc', 'knn', 'logistic_regression', 'random_forest']"
      ]
     },
     "execution_count": 22,
     "metadata": {},
     "output_type": "execute_result"
    }
   ],
   "source": [
    "train_test_scores.index.tolist()"
   ]
  },
  {
   "cell_type": "code",
   "execution_count": 43,
   "id": "b8656178-ef15-49d5-b5a5-24212e4a2456",
   "metadata": {},
   "outputs": [
    {
     "data": {
      "text/plain": [
       "<Figure size 640x480 with 0 Axes>"
      ]
     },
     "metadata": {},
     "output_type": "display_data"
    }
   ],
   "source": [
    "train_test_scores = pd.read_csv(train_test_scores_path, index_col=0)\n",
    "index_list = train_test_scores.index.tolist()\n",
    "index_titlle_list = [model_name.title().replace('_', ' ') for model_name in index_list]\n",
    "x = np.arange(5)\n",
    "y1 = train_test_scores.loc[:,'train_f1_score'].tolist()\n",
    "y2 = train_test_scores.loc[:,'test_f1_score'].tolist()\n",
    "width = 0.4\n",
    "plt.bar(x-0.2, y1, width)\n",
    "plt.bar(x+0.2, y2, width)\n",
    "plt.xticks(x,  index_titlle_list,rotation = 45)\n",
    "plt.legend(['train', 'test'])\n",
    "plt.title('F-1 Scores for Different Models')\n",
    "plt.tight_layout()\n",
    "plt.savefig(f1_score_plot_path)\n",
    "plt.clf()"
   ]
  },
  {
   "cell_type": "code",
   "execution_count": 14,
   "id": "1c4ab958-d13f-46e6-a50b-a129fe681f66",
   "metadata": {},
   "outputs": [
    {
     "name": "stderr",
     "output_type": "stream",
     "text": [
      "/home/ken/miniconda3/envs/credit_default_predict/lib/python3.11/site-packages/altair/utils/core.py:317: FutureWarning: iteritems is deprecated and will be removed in a future version. Use .items instead.\n",
      "  for col_name, dtype in df.dtypes.iteritems():\n"
     ]
    }
   ],
   "source": [
    "plot_f1_scores_altair(train_test_scores_path, f1_score_plot_path)"
   ]
  },
  {
   "cell_type": "code",
   "execution_count": 39,
   "id": "35d621d1-deaf-4de1-b9f2-eeaeecaf0719",
   "metadata": {},
   "outputs": [
    {
     "data": {
      "text/plain": [
       "'Ken Wang'"
      ]
     },
     "execution_count": 39,
     "metadata": {},
     "output_type": "execute_result"
    }
   ],
   "source": [
    "'ken_wang'.title()"
   ]
  }
 ],
 "metadata": {
  "kernelspec": {
   "display_name": "Python [conda env:credit_default_predict]",
   "language": "python",
   "name": "conda-env-credit_default_predict-py"
  },
  "language_info": {
   "codemirror_mode": {
    "name": "ipython",
    "version": 3
   },
   "file_extension": ".py",
   "mimetype": "text/x-python",
   "name": "python",
   "nbconvert_exporter": "python",
   "pygments_lexer": "ipython3",
   "version": "3.11.0"
  }
 },
 "nbformat": 4,
 "nbformat_minor": 5
}
